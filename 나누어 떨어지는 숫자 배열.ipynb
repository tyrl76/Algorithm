{
 "cells": [
  {
   "cell_type": "markdown",
   "id": "60de86e7",
   "metadata": {},
   "source": [
    "# 나누어 떨어지는 숫자 배열\n",
    "\n",
    "array의 각 element 중 divisor로 나누어 떨어지는 값을 오름차순으로 정렬한 배열을 반환하는 함수, solution을 작성해주세요.\n",
    "\n",
    "divisor로 나누어 떨어지는 element가 하나도 없다면 배열에 -1을 담아 반환하세요.\n",
    "\n",
    "제한사항\n",
    "\n",
    "arr은 자연수를 담은 배열입니다.\n",
    "\n",
    "정수 i, j에 대해 i ≠ j 이면 arr[i] ≠ arr[j] 입니다.\n",
    "\n",
    "divisor는 자연수입니다.\n",
    "\n",
    "array는 길이 1 이상인 배열입니다.\n",
    "\n",
    "입출력 예\n",
    "\n",
    "arr\tdivisor\treturn\n",
    "\n",
    "[5, 9, 7, 10]\t5\t[5, 10]\n",
    "\n",
    "[2, 36, 1, 3]\t1\t[1, 2, 3, 36]\n",
    "\n",
    "[3,2,6]\t10\t[-1]"
   ]
  },
  {
   "cell_type": "markdown",
   "id": "1b70adcb",
   "metadata": {},
   "source": [
    "# My code"
   ]
  },
  {
   "cell_type": "code",
   "execution_count": 1,
   "id": "8a2ef0f4",
   "metadata": {},
   "outputs": [],
   "source": [
    "def solution(arr, divisor):\n",
    "    answer = []\n",
    "    for i in arr:\n",
    "        if i%divisor == 0:\n",
    "            answer.append(i)\n",
    "    if len(answer) == 0:\n",
    "        answer.append(-1)\n",
    "    return sorted(answer)"
   ]
  },
  {
   "cell_type": "markdown",
   "id": "8625ddef",
   "metadata": {},
   "source": [
    "## answers"
   ]
  },
  {
   "cell_type": "code",
   "execution_count": null,
   "id": "f352f067",
   "metadata": {},
   "outputs": [],
   "source": [
    "def solution(arr, divisor):\n",
    "    arr = [x for x in arr if x % divisor == 0];\n",
    "    arr.sort();\n",
    "    return arr if len(arr) != 0 else [-1];"
   ]
  }
 ],
 "metadata": {
  "jupytext": {
   "formats": "ipynb,auto:light"
  },
  "kernelspec": {
   "display_name": "Python 3",
   "language": "python",
   "name": "python3"
  },
  "language_info": {
   "codemirror_mode": {
    "name": "ipython",
    "version": 3
   },
   "file_extension": ".py",
   "mimetype": "text/x-python",
   "name": "python",
   "nbconvert_exporter": "python",
   "pygments_lexer": "ipython3",
   "version": "3.8.8"
  }
 },
 "nbformat": 4,
 "nbformat_minor": 5
}
