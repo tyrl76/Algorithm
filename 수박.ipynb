{
 "cells": [
  {
   "cell_type": "markdown",
   "id": "93a4b83a",
   "metadata": {},
   "source": [
    "# 수박수박수박수박수박수?\n",
    "\n",
    "길이가 n이고, \"수박수박수박수....\"와 같은 패턴을 유지하는 문자열을 리턴하는 함수, solution을 완성하세요. \n",
    "\n",
    "예를들어 n이 4이면 \"수박수박\"을 리턴하고 3이라면 \"수박수\"를 리턴하면 됩니다.\n",
    "\n",
    "제한 조건\n",
    "\n",
    "n은 길이 10,000이하인 자연수입니다.\n",
    "\n",
    "입출력 예\n",
    "\n",
    "n\treturn\n",
    "\n",
    "3\t\"수박수\"\n",
    "\n",
    "4\t\"수박수박\""
   ]
  },
  {
   "cell_type": "markdown",
   "id": "aa44debb",
   "metadata": {},
   "source": [
    "## My code"
   ]
  },
  {
   "cell_type": "code",
   "execution_count": 3,
   "id": "9e768d03",
   "metadata": {},
   "outputs": [
    {
     "name": "stdout",
     "output_type": "stream",
     "text": [
      "n이 3인 경우: 수박수\n",
      "n이 4인 경우: 수박수박\n"
     ]
    }
   ],
   "source": [
    "def solution(n):\n",
    "    answer = ''\n",
    "    for i in range(n):\n",
    "        if i % 2 == 0:\n",
    "            answer += \"수\"\n",
    "        else:\n",
    "            answer += \"박\"\n",
    "    return answer\n",
    "\n",
    "print(\"n이 3인 경우: \" + water_melon(3));\n",
    "print(\"n이 4인 경우: \" + water_melon(4));"
   ]
  },
  {
   "cell_type": "markdown",
   "id": "6536f8f5",
   "metadata": {},
   "source": [
    "## answers"
   ]
  },
  {
   "cell_type": "code",
   "execution_count": 2,
   "id": "889c9d7b",
   "metadata": {},
   "outputs": [
    {
     "name": "stdout",
     "output_type": "stream",
     "text": [
      "n이 3인 경우: 수박수\n",
      "n이 4인 경우: 수박수박\n"
     ]
    }
   ],
   "source": [
    "def water_melon(n):\n",
    "    return \"수박\"*(n//2) + \"수\"*(n%2)\n",
    "\n",
    "print(\"n이 3인 경우: \" + water_melon(3));\n",
    "print(\"n이 4인 경우: \" + water_melon(4));"
   ]
  }
 ],
 "metadata": {
  "jupytext": {
   "formats": "ipynb,auto:light"
  },
  "kernelspec": {
   "display_name": "Python 3",
   "language": "python",
   "name": "python3"
  },
  "language_info": {
   "codemirror_mode": {
    "name": "ipython",
    "version": 3
   },
   "file_extension": ".py",
   "mimetype": "text/x-python",
   "name": "python",
   "nbconvert_exporter": "python",
   "pygments_lexer": "ipython3",
   "version": "3.8.8"
  }
 },
 "nbformat": 4,
 "nbformat_minor": 5
}
