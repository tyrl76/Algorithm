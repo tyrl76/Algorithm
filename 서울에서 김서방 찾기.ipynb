{
 "cells": [
  {
   "cell_type": "markdown",
   "id": "d166b244",
   "metadata": {},
   "source": [
    "# 서울에서 김서방 찾기\n",
    "\n",
    "String형 배열 seoul의 element중 \"Kim\"의 위치 x를 찾아, \"김서방은 x에 있다\"는 String을 반환하는 함수, solution을 완성하세요. \n",
    "\n",
    "seoul에 \"Kim\"은 오직 한 번만 나타나며 잘못된 값이 입력되는 경우는 없습니다.\n",
    "\n",
    "제한 사항\n",
    "\n",
    "seoul은 길이 1 이상, 1000 이하인 배열입니다.\n",
    "\n",
    "seoul의 원소는 길이 1 이상, 20 이하인 문자열입니다.\n",
    "\n",
    "\"Kim\"은 반드시 seoul 안에 포함되어 있습니다.\n",
    "\n",
    "입출력 예\n",
    "\n",
    "seoul\treturn\n",
    "\n",
    "[\"Jane\", \"Kim\"]\t\"김서방은 1에 있다\""
   ]
  },
  {
   "cell_type": "markdown",
   "id": "fa6a825b",
   "metadata": {},
   "source": [
    "## My code"
   ]
  },
  {
   "cell_type": "code",
   "execution_count": 2,
   "id": "f6911af8",
   "metadata": {},
   "outputs": [
    {
     "name": "stdout",
     "output_type": "stream",
     "text": [
      "김서방은 2에 있다\n"
     ]
    }
   ],
   "source": [
    "def solution(seoul):\n",
    "    for i, j in enumerate(seoul):\n",
    "        if j == \"Kim\":\n",
    "            return \"김서방은 {}에 있다\".format(i)\n",
    "    \n",
    "# 실행을 위한 테스트코드입니다.\n",
    "print(solution([\"Queen\", \"Tod\", \"Kim\"]))"
   ]
  },
  {
   "cell_type": "markdown",
   "id": "146c090b",
   "metadata": {},
   "source": [
    "## answers"
   ]
  },
  {
   "cell_type": "code",
   "execution_count": 3,
   "id": "721495de",
   "metadata": {},
   "outputs": [
    {
     "name": "stdout",
     "output_type": "stream",
     "text": [
      "김서방은 2에 있다\n"
     ]
    }
   ],
   "source": [
    "def findKim(seoul):\n",
    "    return \"김서방은 {}에 있다\".format(seoul.index('Kim'))\n",
    "\n",
    "\n",
    "# 실행을 위한 테스트코드입니다.\n",
    "print(findKim([\"Queen\", \"Tod\", \"Kim\"]))"
   ]
  }
 ],
 "metadata": {
  "jupytext": {
   "formats": "ipynb,auto:light"
  },
  "kernelspec": {
   "display_name": "Python 3",
   "language": "python",
   "name": "python3"
  },
  "language_info": {
   "codemirror_mode": {
    "name": "ipython",
    "version": 3
   },
   "file_extension": ".py",
   "mimetype": "text/x-python",
   "name": "python",
   "nbconvert_exporter": "python",
   "pygments_lexer": "ipython3",
   "version": "3.8.8"
  }
 },
 "nbformat": 4,
 "nbformat_minor": 5
}
