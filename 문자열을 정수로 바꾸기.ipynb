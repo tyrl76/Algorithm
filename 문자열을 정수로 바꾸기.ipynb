{
 "cells": [
  {
   "cell_type": "markdown",
   "id": "398e1607",
   "metadata": {},
   "source": [
    "# 문자열을 정수로 바꾸기\n",
    "\n",
    "문자열 s를 숫자로 변환한 결과를 반환하는 함수, solution을 완성하세요.\n",
    "\n",
    "제한 조건\n",
    "\n",
    "s의 길이는 1 이상 5이하입니다.\n",
    "\n",
    "s의 맨앞에는 부호(+, -)가 올 수 있습니다.\n",
    "\n",
    "s는 부호와 숫자로만 이루어져있습니다.\n",
    "\n",
    "s는 \"0\"으로 시작하지 않습니다.\n",
    "\n",
    "입출력 예\n",
    "\n",
    "예를들어 str이 \"1234\"이면 1234를 반환하고, \"-1234\"이면 -1234를 반환하면 됩니다.\n",
    "\n",
    "str은 부호(+,-)와 숫자로만 구성되어 있고, 잘못된 값이 입력되는 경우는 없습니다."
   ]
  },
  {
   "cell_type": "markdown",
   "id": "33d48078",
   "metadata": {},
   "source": [
    "## My code"
   ]
  },
  {
   "cell_type": "code",
   "execution_count": 3,
   "id": "8ef02ef8",
   "metadata": {},
   "outputs": [
    {
     "name": "stdout",
     "output_type": "stream",
     "text": [
      "-1234\n"
     ]
    }
   ],
   "source": [
    "def solution(s):\n",
    "    if \"-\" in s:\n",
    "        answer = int(s.replace(\"-\",\"\")) * (-1)\n",
    "    else:\n",
    "        answer = int(s)\n",
    "    return answer\n",
    "\n",
    "# 아래는 테스트로 출력해 보기 위한 코드입니다.\n",
    "print(strToInt(\"-1234\"));"
   ]
  },
  {
   "cell_type": "markdown",
   "id": "cd02071f",
   "metadata": {},
   "source": [
    "## answers"
   ]
  },
  {
   "cell_type": "code",
   "execution_count": 2,
   "id": "5b458728",
   "metadata": {},
   "outputs": [
    {
     "name": "stdout",
     "output_type": "stream",
     "text": [
      "-1234\n"
     ]
    }
   ],
   "source": [
    "def strToInt(str):\n",
    "    result = 0\n",
    "\n",
    "    for idx, number in enumerate(str[::-1]):\n",
    "        if number == '-':\n",
    "            result *= -1\n",
    "        else:\n",
    "            result += int(number) * (10 ** idx)\n",
    "\n",
    "    return result\n",
    "\n",
    "\n",
    "# 아래는 테스트로 출력해 보기 위한 코드입니다.\n",
    "print(strToInt(\"-1234\"));"
   ]
  },
  {
   "cell_type": "code",
   "execution_count": 4,
   "id": "bc8e411d",
   "metadata": {},
   "outputs": [
    {
     "name": "stdout",
     "output_type": "stream",
     "text": [
      "-1234\n"
     ]
    }
   ],
   "source": [
    "def strToInt(str):\n",
    "    #함수를 완성하세요\n",
    "    a = int(str)\n",
    "    return a\n",
    "\n",
    "\n",
    "# 아래는 테스트로 출력해 보기 위한 코드입니다.\n",
    "print(strToInt(\"-1234\"));"
   ]
  }
 ],
 "metadata": {
  "jupytext": {
   "formats": "ipynb,auto:light"
  },
  "kernelspec": {
   "display_name": "Python 3",
   "language": "python",
   "name": "python3"
  },
  "language_info": {
   "codemirror_mode": {
    "name": "ipython",
    "version": 3
   },
   "file_extension": ".py",
   "mimetype": "text/x-python",
   "name": "python",
   "nbconvert_exporter": "python",
   "pygments_lexer": "ipython3",
   "version": "3.8.8"
  }
 },
 "nbformat": 4,
 "nbformat_minor": 5
}
