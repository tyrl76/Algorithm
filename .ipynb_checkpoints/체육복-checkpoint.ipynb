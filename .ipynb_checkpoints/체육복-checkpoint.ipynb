{
 "cells": [
  {
   "cell_type": "markdown",
   "id": "563bb779",
   "metadata": {},
   "source": [
    "# 체육복\n",
    "\n",
    "## 문제 설명\n",
    "\n",
    "점심시간에 도둑이 들어, 일부 학생이 체육복을 도난당했습니다. 다행히 여벌 체육복이 있는 학생이 이들에게 체육복을 빌려주려 합니다. 학생들의 번호는 체격 순으로 매겨져 있어, 바로 앞번호의 학생이나 바로 뒷번호의 학생에게만 체육복을 빌려줄 수 있습니다. 예를 들어, 4번 학생은 3번 학생이나 5번 학생에게만 체육복을 빌려줄 수 있습니다. 체육복이 없으면 수업을 들을 수 없기 때문에 체육복을 적절히 빌려 최대한 많은 학생이 체육수업을 들어야 합니다.\n",
    "\n",
    "전체 학생의 수 n, 체육복을 도난당한 학생들의 번호가 담긴 배열 lost, 여벌의 체육복을 가져온 학생들의 번호가 담긴 배열 reserve가 매개변수로 주어질 때, 체육수업을 들을 수 있는 학생의 최댓값을 return 하도록 solution 함수를 작성해주세요.\n",
    "\n",
    "## 제한사항\n",
    "\n",
    "전체 학생의 수는 2명 이상 30명 이하입니다.\n",
    "체육복을 도난당한 학생의 수는 1명 이상 n명 이하이고 중복되는 번호는 없습니다.\n",
    "여벌의 체육복을 가져온 학생의 수는 1명 이상 n명 이하이고 중복되는 번호는 없습니다.\n",
    "여벌 체육복이 있는 학생만 다른 학생에게 체육복을 빌려줄 수 있습니다.\n",
    "여벌 체육복을 가져온 학생이 체육복을 도난당했을 수 있습니다. 이때 이 학생은 체육복을 하나만 도난당했다고 가정하며, 남은 체육복이 하나이기에 다른 학생에게는 체육복을 빌려줄 수 없습니다.\n",
    "입출력 예\n",
    "\n",
    "n\tlost\treserve\treturn\n",
    "\n",
    "5\t[2, 4]\t[1, 3, 5]\t5\n",
    "\n",
    "5\t[2, 4]\t[3]\t4\n",
    "\n",
    "3\t[3]\t[1]\t2\n",
    "\n",
    "입출력 예 설명\n",
    "\n",
    "예제 #1\n",
    "\n",
    "1번 학생이 2번 학생에게 체육복을 빌려주고, 3번 학생이나 5번 학생이 4번 학생에게 체육복을 빌려주면 학생 5명이 체육수업을 들을 수 있습니다.\n",
    "\n",
    "예제 #2\n",
    "\n",
    "3번 학생이 2번 학생이나 4번 학생에게 체육복을 빌려주면 학생 4명이 체육수업을 들을 수 있습니다."
   ]
  },
  {
   "cell_type": "markdown",
   "id": "e92f5939",
   "metadata": {},
   "source": [
    "# My code"
   ]
  },
  {
   "cell_type": "code",
   "execution_count": 1,
   "id": "86bd1ee7",
   "metadata": {},
   "outputs": [],
   "source": [
    "def solution(n, lost, reserve):\n",
    "    list = []\n",
    "    list1 = []\n",
    "    count1 = 0\n",
    "    count2 = 0\n",
    "    for i in range(n):\n",
    "        list1.append(1)\n",
    "    for i in lost:\n",
    "        list1[i - 1] = list1[i - 1] - 1\n",
    "    for i in reserve:\n",
    "        list1[i - 1] = list1[i - 1] + 1\n",
    "        \n",
    "        \n",
    "    for i in range(1, len(list1)):\n",
    "        if list1[i] == 0:\n",
    "            if list1[i - 1] == 2:\n",
    "                list1[i] = 1\n",
    "                list1[i - 1] = 1\n",
    "            else:\n",
    "                continue\n",
    "                \n",
    "    for i in range(len(list1) - 1):\n",
    "        if list1[i] == 0:\n",
    "            if list1[i + 1] == 2:\n",
    "                list1[i] = 1\n",
    "                list1[i + 1] = 1\n",
    "            else:\n",
    "                continue\n",
    "                \n",
    "    for i in range(len(list1)):\n",
    "        if list1[i] != 0:\n",
    "            count1 += 1\n",
    "            \n",
    "    for i in range(n):\n",
    "        list.append(1)\n",
    "    for i in lost:\n",
    "        list[i - 1] = list[i - 1] - 1\n",
    "    for i in reserve:\n",
    "        list[i - 1] = list[i - 1] + 1\n",
    "        \n",
    "    for i in range(len(list) - 1):\n",
    "        if list[i] == 0:\n",
    "            if list[i + 1] == 2:\n",
    "                list[i] = 1\n",
    "                list[i + 1] = 1\n",
    "            else:\n",
    "                continue\n",
    "                \n",
    "    for i in range(1, len(list)):\n",
    "        if list[i] == 0:\n",
    "            if list[i - 1] == 2:\n",
    "                list[i] = 1\n",
    "                list[i - 1] = 1\n",
    "            else:\n",
    "                continue\n",
    "                \n",
    "    for i in range(len(list)):\n",
    "        if list[i] != 0:\n",
    "            count2 += 1\n",
    "            \n",
    "    return max(count1, count2)"
   ]
  },
  {
   "cell_type": "markdown",
   "id": "519249ee",
   "metadata": {},
   "source": [
    "# answers"
   ]
  },
  {
   "cell_type": "code",
   "execution_count": 2,
   "id": "5511ca4f",
   "metadata": {},
   "outputs": [],
   "source": [
    "def solution(n, lost, reserve):\n",
    "    _reserve = [r for r in reserve if r not in lost]\n",
    "    _lost = [l for l in lost if l not in reserve]\n",
    "    for r in _reserve:\n",
    "        f = r - 1\n",
    "        b = r + 1\n",
    "        if f in _lost:\n",
    "            _lost.remove(f)\n",
    "        elif b in _lost:\n",
    "            _lost.remove(b)\n",
    "    return n - len(_lost)"
   ]
  }
 ],
 "metadata": {
  "jupytext": {
   "encoding": "# -*- coding: utf-8 -*-",
   "formats": "ipynb,py:light"
  },
  "kernelspec": {
   "display_name": "Python 3",
   "language": "python",
   "name": "python3"
  },
  "language_info": {
   "codemirror_mode": {
    "name": "ipython",
    "version": 3
   },
   "file_extension": ".py",
   "mimetype": "text/x-python",
   "name": "python",
   "nbconvert_exporter": "python",
   "pygments_lexer": "ipython3",
   "version": "3.8.8"
  }
 },
 "nbformat": 4,
 "nbformat_minor": 5
}
