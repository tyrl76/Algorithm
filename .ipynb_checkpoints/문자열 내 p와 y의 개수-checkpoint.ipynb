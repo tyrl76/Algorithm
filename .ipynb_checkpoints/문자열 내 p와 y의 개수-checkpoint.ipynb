{
 "cells": [
  {
   "cell_type": "markdown",
   "id": "5b19af5c",
   "metadata": {},
   "source": [
    "# 문자열 내 p와 y의 개수\n",
    "\n",
    "대문자와 소문자가 섞여있는 문자열 s가 주어집니다. \n",
    "\n",
    "s에 'p'의 개수와 'y'의 개수를 비교해 같으면 True, 다르면 False를 return 하는 solution를 완성하세요. \n",
    "\n",
    "'p', 'y' 모두 하나도 없는 경우는 항상 True를 리턴합니다. 단, 개수를 비교할 때 대문자와 소문자는 구별하지 않습니다.\n",
    "\n",
    "예를 들어 s가 \"pPoooyY\"면 true를 return하고 \"Pyy\"라면 false를 return합니다.\n",
    "\n",
    "제한사항\n",
    "\n",
    "문자열 s의 길이 : 50 이하의 자연수\n",
    "\n",
    "문자열 s는 알파벳으로만 이루어져 있습니다.\n",
    "\n",
    "입출력 예\n",
    "\n",
    "s\tanswer\n",
    "\n",
    "\"pPoooyY\"\ttrue\n",
    "\n",
    "\"Pyy\"\tfalse"
   ]
  },
  {
   "cell_type": "markdown",
   "id": "d7db7471",
   "metadata": {},
   "source": [
    "## My code"
   ]
  },
  {
   "cell_type": "code",
   "execution_count": 6,
   "id": "f60e496b",
   "metadata": {},
   "outputs": [
    {
     "name": "stdout",
     "output_type": "stream",
     "text": [
      "True\n",
      "False\n",
      "True\n"
     ]
    }
   ],
   "source": [
    "def solution(s):\n",
    "    answer = True\n",
    "    count_p = 0\n",
    "    count_y = 0\n",
    "\n",
    "    for i in s:\n",
    "        if i == \"p\" or i == \"P\":\n",
    "            count_p += 1\n",
    "        elif i == \"y\" or i == \"Y\":\n",
    "            count_y += 1\n",
    "\n",
    "    if count_p == count_y:\n",
    "        return True\n",
    "    else:\n",
    "        return False\n",
    "    \n",
    "# 아래는 테스트로 출력해 보기 위한 코드입니다.    \n",
    "print( numPY(\"pPoooyY\") )\n",
    "print( numPY(\"Pyy\") )\n",
    "print( numPY(\"dkqw\") )"
   ]
  },
  {
   "cell_type": "markdown",
   "id": "fccfcf19",
   "metadata": {},
   "source": [
    "## answers"
   ]
  },
  {
   "cell_type": "code",
   "execution_count": 4,
   "id": "1846242b",
   "metadata": {},
   "outputs": [
    {
     "name": "stdout",
     "output_type": "stream",
     "text": [
      "True\n",
      "False\n",
      "True\n"
     ]
    }
   ],
   "source": [
    "def numPY(s):\n",
    "    # 함수를 완성하세요\n",
    "    return s.lower().count('p') == s.lower().count('y')\n",
    "\n",
    "# 아래는 테스트로 출력해 보기 위한 코드입니다.\n",
    "print( numPY(\"pPoooyY\") )\n",
    "print( numPY(\"Pyy\") )\n",
    "print( numPY(\"dkqw\") )"
   ]
  },
  {
   "cell_type": "code",
   "execution_count": null,
   "id": "a11bc386",
   "metadata": {},
   "outputs": [],
   "source": []
  }
 ],
 "metadata": {
  "jupytext": {
   "formats": "ipynb,auto:light"
  },
  "kernelspec": {
   "display_name": "Python 3",
   "language": "python",
   "name": "python3"
  },
  "language_info": {
   "codemirror_mode": {
    "name": "ipython",
    "version": 3
   },
   "file_extension": ".py",
   "mimetype": "text/x-python",
   "name": "python",
   "nbconvert_exporter": "python",
   "pygments_lexer": "ipython3",
   "version": "3.8.8"
  }
 },
 "nbformat": 4,
 "nbformat_minor": 5
}
