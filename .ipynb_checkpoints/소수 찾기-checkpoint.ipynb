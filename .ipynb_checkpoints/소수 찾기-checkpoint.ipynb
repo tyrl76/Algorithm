{
 "cells": [
  {
   "cell_type": "markdown",
   "id": "1b3840ef",
   "metadata": {},
   "source": [
    "# 소수 찾기\n",
    "\n",
    "1부터 입력받은 숫자 n 사이에 있는 소수의 개수를 반환하는 함수, solution을 만들어 보세요.\n",
    "\n",
    "소수는 1과 자기 자신으로만 나누어지는 수를 의미합니다.\n",
    "\n",
    "(1은 소수가 아닙니다.)\n",
    "\n",
    "제한 조건\n",
    "\n",
    "n은 2이상 1000000이하의 자연수입니다.\n",
    "\n",
    "입출력 예\n",
    "\n",
    "n\tresult\n",
    "\n",
    "10\t4\n",
    "\n",
    "5\t3"
   ]
  },
  {
   "cell_type": "markdown",
   "id": "5509918d",
   "metadata": {},
   "source": [
    "## My code"
   ]
  },
  {
   "cell_type": "code",
   "execution_count": 4,
   "id": "ab4df6b9",
   "metadata": {},
   "outputs": [
    {
     "name": "stdout",
     "output_type": "stream",
     "text": [
      "4\n"
     ]
    }
   ],
   "source": [
    "import math\n",
    "\n",
    "def solution(n):\n",
    "    result = []\n",
    "    for i in range(2, n + 1):\n",
    "        count = 0\n",
    "        for j in range(2, int(math.sqrt(i)) + 1):\n",
    "            if i % j == 0:\n",
    "                count += 1\n",
    "                break\n",
    "        if count == 0:\n",
    "            result.append(i)\n",
    "    return len(result)\n",
    "\n",
    "# 아래는 테스트로 출력해 보기 위한 코드입니다.\n",
    "print(solution(10))"
   ]
  },
  {
   "cell_type": "markdown",
   "id": "affc0bfe",
   "metadata": {},
   "source": [
    "## answers"
   ]
  },
  {
   "cell_type": "code",
   "execution_count": 9,
   "id": "f0f7402e",
   "metadata": {},
   "outputs": [
    {
     "name": "stdout",
     "output_type": "stream",
     "text": [
      "4\n"
     ]
    }
   ],
   "source": [
    "def solution(n):\n",
    "    num=set(range(2,n+1))\n",
    "\n",
    "    for i in range(2,int(n ** 0.5) + 1):\n",
    "        if i in num:\n",
    "            num-=set(range(i*i,n+1,i))\n",
    "    return len(num)\n",
    "\n",
    "# 아래는 테스트로 출력해 보기 위한 코드입니다.\n",
    "print(solution(10))"
   ]
  }
 ],
 "metadata": {
  "jupytext": {
   "formats": "ipynb,auto:light"
  },
  "kernelspec": {
   "display_name": "Python 3",
   "language": "python",
   "name": "python3"
  },
  "language_info": {
   "codemirror_mode": {
    "name": "ipython",
    "version": 3
   },
   "file_extension": ".py",
   "mimetype": "text/x-python",
   "name": "python",
   "nbconvert_exporter": "python",
   "pygments_lexer": "ipython3",
   "version": "3.8.8"
  }
 },
 "nbformat": 4,
 "nbformat_minor": 5
}
