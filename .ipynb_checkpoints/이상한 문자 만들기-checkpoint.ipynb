{
 "cells": [
  {
   "cell_type": "markdown",
   "id": "1914f82a",
   "metadata": {},
   "source": [
    "# 이상한 문자 만들기\n",
    "\n",
    "문자열 s는 한 개 이상의 단어로 구성되어 있습니다. 각 단어는 하나 이상의 공백문자로 구분되어 있습니다.\n",
    "\n",
    "각 단어의 짝수번째 알파벳은 대문자로, 홀수번째 알파벳은 소문자로 바꾼 문자열을 리턴하는 함수, solution을 완성하세요.\n",
    "\n",
    "제한 사항\n",
    "\n",
    "문자열 전체의 짝/홀수 인덱스가 아니라, 단어(공백을 기준)별로 짝/홀수 인덱스를 판단해야합니다.\n",
    "\n",
    "첫 번째 글자는 0번째 인덱스로 보아 짝수번째 알파벳으로 처리해야 합니다.\n",
    "\n",
    "입출력 예\n",
    "\n",
    "s\treturn\n",
    "\n",
    "\"try hello world\"\t\"TrY HeLlO WoRlD\"\n",
    "\n",
    "입출력 예 설명\n",
    "\n",
    "\"try hello world\"는 세 단어 \"try\", \"hello\", \"world\"로 구성되어 있습니다.\n",
    "\n",
    "각 단어의 짝수번째 문자를 대문자로, 홀수번째 문자를 소문자로 바꾸면 \"TrY\", \"HeLlO\", \"WoRlD\"입니다. \n",
    "\n",
    "따라서 \"TrY HeLlO WoRlD\" 를 리턴합니다."
   ]
  },
  {
   "cell_type": "markdown",
   "id": "3a843f17",
   "metadata": {},
   "source": [
    "## My code"
   ]
  },
  {
   "cell_type": "code",
   "execution_count": 4,
   "id": "154c8de1",
   "metadata": {},
   "outputs": [
    {
     "name": "stdout",
     "output_type": "stream",
     "text": [
      "결과 : TrY HeLlO WoRlD\n"
     ]
    }
   ],
   "source": [
    "def solution(s):\n",
    "    result = \"\"\n",
    "    count = 0\n",
    "\n",
    "    for i in s:\n",
    "        if i != \" \":\n",
    "            if count % 2 == 0:\n",
    "                result += i.upper()\n",
    "                count += 1\n",
    "            else:\n",
    "                result += i.lower()\n",
    "                count += 1\n",
    "        else:\n",
    "            result += \" \"\n",
    "            count = 0\n",
    "\n",
    "    return result\n",
    "\n",
    "# 아래는 테스트로 출력해 보기 위한 코드입니다.\n",
    "print(\"결과 : {}\".format(solution(\"try hello world\")));"
   ]
  },
  {
   "cell_type": "markdown",
   "id": "8c9c6034",
   "metadata": {},
   "source": [
    "## answers"
   ]
  },
  {
   "cell_type": "code",
   "execution_count": 2,
   "id": "471dea0d",
   "metadata": {},
   "outputs": [
    {
     "name": "stdout",
     "output_type": "stream",
     "text": [
      "결과 : TrY HeLlO WoRlD\n"
     ]
    }
   ],
   "source": [
    "def toWeirdCase(s):\n",
    "    return \" \".join(map(lambda x: \"\".join([a.lower() if i % 2 else a.upper() for i, a in enumerate(x)]), s.split(\" \")))\n",
    "\n",
    "# 아래는 테스트로 출력해 보기 위한 코드입니다.\n",
    "print(\"결과 : {}\".format(toWeirdCase(\"try hello world\")));"
   ]
  },
  {
   "cell_type": "code",
   "execution_count": 3,
   "id": "c32ce102",
   "metadata": {},
   "outputs": [
    {
     "name": "stdout",
     "output_type": "stream",
     "text": [
      "결과 : TrY HeLlO WoRlD\n"
     ]
    }
   ],
   "source": [
    "def toWeirdCase(s):\n",
    "    res = []\n",
    "    for x in s.split(' '):\n",
    "        word = ''\n",
    "        for i in range(len(x)):\n",
    "            c = x[i].upper() if i % 2 == 0 else x[i].lower()\n",
    "            word = word + c\n",
    "        res.append(word)\n",
    "    return ' '.join(res)\n",
    "\n",
    "# 아래는 테스트로 출력해 보기 위한 코드입니다.\n",
    "print(\"결과 : {}\".format(toWeirdCase(\"try hello world\")));"
   ]
  }
 ],
 "metadata": {
  "jupytext": {
   "formats": "ipynb,auto:light"
  },
  "kernelspec": {
   "display_name": "Python 3",
   "language": "python",
   "name": "python3"
  },
  "language_info": {
   "codemirror_mode": {
    "name": "ipython",
    "version": 3
   },
   "file_extension": ".py",
   "mimetype": "text/x-python",
   "name": "python",
   "nbconvert_exporter": "python",
   "pygments_lexer": "ipython3",
   "version": "3.8.8"
  }
 },
 "nbformat": 4,
 "nbformat_minor": 5
}
