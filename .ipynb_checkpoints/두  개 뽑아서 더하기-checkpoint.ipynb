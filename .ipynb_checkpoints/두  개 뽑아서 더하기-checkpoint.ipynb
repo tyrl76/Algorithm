{
 "cells": [
  {
   "cell_type": "markdown",
   "id": "b0f4a941",
   "metadata": {},
   "source": [
    "# 두 개 뽑아서 더하기\n",
    "\n",
    "정수 배열 numbers가 주어집니다. numbers에서 서로 다른 인덱스에 있는 두 개의 수를 뽑아 더해서 만들 수 있는 모든 수를 배열에 오름차순으로 담아 return 하도록 solution 함수를 완성해주세요.\n",
    "\n",
    "제한사항\n",
    "\n",
    "numbers의 길이는 2 이상 100 이하입니다.\n",
    "\n",
    "numbers의 모든 수는 0 이상 100 이하입니다.\n",
    "\n",
    "입출력 예\n",
    "\n",
    "numbers\tresult\n",
    "\n",
    "[2,1,3,4,1]\t[2,3,4,5,6,7]\n",
    "\n",
    "[5,0,2,7]\t[2,5,7,9,12]\n",
    "\n",
    "입출력 예 설명\n",
    "\n",
    "입출력 예 #1\n",
    "\n",
    "2 = 1 + 1 입니다. (1이 numbers에 두 개 있습니다.)\n",
    "\n",
    "3 = 2 + 1 입니다.\n",
    "\n",
    "4 = 1 + 3 입니다.\n",
    "\n",
    "5 = 1 + 4 = 2 + 3 입니다.\n",
    "\n",
    "6 = 2 + 4 입니다.\n",
    "\n",
    "7 = 3 + 4 입니다.\n",
    "\n",
    "따라서 [2,3,4,5,6,7] 을 return 해야 합니다.\n",
    "\n",
    "입출력 예 #2\n",
    "\n",
    "2 = 0 + 2 입니다.\n",
    "\n",
    "5 = 5 + 0 입니다.\n",
    "\n",
    "7 = 0 + 7 = 5 + 2 입니다.\n",
    "\n",
    "9 = 2 + 7 입니다.\n",
    "\n",
    "12 = 5 + 7 입니다.\n",
    "\n",
    "따라서 [2,5,7,9,12] 를 return 해야 합니다."
   ]
  },
  {
   "cell_type": "markdown",
   "id": "66a97e76",
   "metadata": {},
   "source": [
    "## My code"
   ]
  },
  {
   "cell_type": "code",
   "execution_count": 1,
   "id": "fcadc024",
   "metadata": {},
   "outputs": [],
   "source": [
    "def solution(numbers):\n",
    "    result = []\n",
    "    for i in range(len(numbers)):\n",
    "        for j in range(i + 1, len(numbers)):\n",
    "            x = numbers[i] + numbers[j]\n",
    "            if x not in result:\n",
    "                result.append(x)\n",
    "    return sorted(result)"
   ]
  },
  {
   "cell_type": "markdown",
   "id": "bffa0010",
   "metadata": {},
   "source": [
    "## answers"
   ]
  },
  {
   "cell_type": "code",
   "execution_count": null,
   "id": "e55af3df",
   "metadata": {},
   "outputs": [],
   "source": [
    "def solution(numbers):\n",
    "    answer = []\n",
    "    for i in range(len(numbers)):\n",
    "        for j in range(i+1, len(numbers)):\n",
    "            answer.append(numbers[i] + numbers[j])\n",
    "    return sorted(list(set(answer)))"
   ]
  }
 ],
 "metadata": {
  "jupytext": {
   "encoding": "# -*- coding: utf-8 -*-",
   "formats": "ipynb,py:light"
  },
  "kernelspec": {
   "display_name": "Python 3",
   "language": "python",
   "name": "python3"
  },
  "language_info": {
   "codemirror_mode": {
    "name": "ipython",
    "version": 3
   },
   "file_extension": ".py",
   "mimetype": "text/x-python",
   "name": "python",
   "nbconvert_exporter": "python",
   "pygments_lexer": "ipython3",
   "version": "3.8.8"
  }
 },
 "nbformat": 4,
 "nbformat_minor": 5
}
