{
 "cells": [
  {
   "cell_type": "markdown",
   "id": "c6215fdf",
   "metadata": {},
   "source": [
    "# 문자열 다루기 기본\n",
    "\n",
    "문자열 s의 길이가 4 혹은 6이고, 숫자로만 구성돼있는지 확인해주는 함수, solution을 완성하세요. \n",
    "\n",
    "예를 들어 s가 \"a234\"이면 False를 리턴하고 \"1234\"라면 True를 리턴하면 됩니다.\n",
    "\n",
    "제한 사항\n",
    "\n",
    "s는 길이 1 이상, 길이 8 이하인 문자열입니다.\n",
    "\n",
    "입출력 예\n",
    "\n",
    "s\treturn\n",
    "\n",
    "\"a234\"\tfalse\n",
    "\n",
    "\"1234\"\ttrue"
   ]
  },
  {
   "cell_type": "markdown",
   "id": "fa14ce9a",
   "metadata": {},
   "source": [
    "## My code"
   ]
  },
  {
   "cell_type": "code",
   "execution_count": 1,
   "id": "ee020763",
   "metadata": {},
   "outputs": [],
   "source": [
    "def solution(s):\n",
    "    number = [\"1\", \"2\", \"3\", \"4\", \"5\", \"6\", \"7\", \"8\", \"9\", \"0\"]\n",
    "    count = 0\n",
    "\n",
    "    if len(s) != 4 and len(s) != 6:\n",
    "        return False\n",
    "\n",
    "    for i in s:\n",
    "        if i in number:\n",
    "            count += 1\n",
    "    if count == len(s):\n",
    "        return True    \n",
    "    else:\n",
    "        return False"
   ]
  },
  {
   "cell_type": "markdown",
   "id": "bdd710fd",
   "metadata": {},
   "source": [
    "## answers"
   ]
  },
  {
   "cell_type": "code",
   "execution_count": 2,
   "id": "0cecd66f",
   "metadata": {},
   "outputs": [],
   "source": [
    "def alpha_string46(s):\n",
    "    return s.isdigit() and len(s) in (4, 6)"
   ]
  },
  {
   "cell_type": "code",
   "execution_count": 3,
   "id": "de0e6c08",
   "metadata": {},
   "outputs": [],
   "source": [
    "def alpha_string46(s):\n",
    "    try:\n",
    "        int(s)\n",
    "    except:\n",
    "        return False\n",
    "    return len(s) == 4 or len(s) == 6 "
   ]
  }
 ],
 "metadata": {
  "jupytext": {
   "formats": "ipynb,auto:light"
  },
  "kernelspec": {
   "display_name": "Python 3",
   "language": "python",
   "name": "python3"
  },
  "language_info": {
   "codemirror_mode": {
    "name": "ipython",
    "version": 3
   },
   "file_extension": ".py",
   "mimetype": "text/x-python",
   "name": "python",
   "nbconvert_exporter": "python",
   "pygments_lexer": "ipython3",
   "version": "3.8.8"
  }
 },
 "nbformat": 4,
 "nbformat_minor": 5
}
