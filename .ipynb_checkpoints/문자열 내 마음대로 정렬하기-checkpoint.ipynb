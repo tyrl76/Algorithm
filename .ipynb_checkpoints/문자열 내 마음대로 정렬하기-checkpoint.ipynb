{
 "cells": [
  {
   "cell_type": "markdown",
   "id": "90133cee",
   "metadata": {},
   "source": [
    "# 문자열 내 마음대로 정렬하기\n",
    "\n",
    "문자열로 구성된 리스트 strings와, 정수 n이 주어졌을 때, 각 문자열의 인덱스 n번째 글자를 기준으로 오름차\n",
    "순 정렬하려 합니다. \n",
    "\n",
    "예를 들어 strings가 [\"sun\", \"bed\", \"car\"]이고 n이 1이면 각 단어의 인덱스 1의 문자 \"u\", \"e\", \"a\"로 strings를 정렬합니다.\n",
    "\n",
    "제한 조건\n",
    "\n",
    "strings는 길이 1 이상, 50이하인 배열입니다.\n",
    "\n",
    "strings의 원소는 소문자 알파벳으로 이루어져 있습니다.\n",
    "\n",
    "strings의 원소는 길이 1 이상, 100이하인 문자열입니다.\n",
    "\n",
    "모든 strings의 원소의 길이는 n보다 큽니다.\n",
    "\n",
    "인덱스 1의 문자가 같은 문자열이 여럿 일 경우, 사전순으로 앞선 문자열이 앞쪽에 위치합니다.\n",
    "\n",
    "입출력 예\n",
    "\n",
    "strings\tn\treturn\n",
    "\n",
    "[\"sun\", \"bed\", \"car\"]\t1\t[\"car\", \"bed\", \"sun\"]\n",
    "\n",
    "[\"abce\", \"abcd\", \"cdx\"]\t2\t[\"abcd\", \"abce\", \"cdx\"]"
   ]
  },
  {
   "cell_type": "markdown",
   "id": "e46d54b8",
   "metadata": {},
   "source": [
    "## My code"
   ]
  },
  {
   "cell_type": "code",
   "execution_count": 1,
   "id": "69316271",
   "metadata": {},
   "outputs": [],
   "source": [
    "def solution(strings, n):\n",
    "    strings.sort()\n",
    "    strings.sort(key = lambda x : x[n])\n",
    "    return strings"
   ]
  },
  {
   "cell_type": "markdown",
   "id": "3d2c14ab",
   "metadata": {},
   "source": [
    "## answers"
   ]
  },
  {
   "cell_type": "code",
   "execution_count": null,
   "id": "05a2f95f",
   "metadata": {},
   "outputs": [],
   "source": [
    "def strange_sort(strings, n):\n",
    "    def sortkey(x):\n",
    "        return x[n]\n",
    "    strings.sort(key=sortkey)\n",
    "    return strings\n",
    "\n",
    "# 아래는 테스트로 출력해 보기 위한 코드입니다.\n",
    "print( strange_sort([\"sun\", \"bed\", \"car\"], 1) )"
   ]
  }
 ],
 "metadata": {
  "jupytext": {
   "formats": "ipynb,auto:light"
  },
  "kernelspec": {
   "display_name": "Python 3",
   "language": "python",
   "name": "python3"
  },
  "language_info": {
   "codemirror_mode": {
    "name": "ipython",
    "version": 3
   },
   "file_extension": ".py",
   "mimetype": "text/x-python",
   "name": "python",
   "nbconvert_exporter": "python",
   "pygments_lexer": "ipython3",
   "version": "3.8.8"
  }
 },
 "nbformat": 4,
 "nbformat_minor": 5
}
