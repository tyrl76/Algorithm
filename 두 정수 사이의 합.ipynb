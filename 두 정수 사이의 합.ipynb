{
 "cells": [
  {
   "cell_type": "markdown",
   "id": "4deac8d8",
   "metadata": {},
   "source": [
    "# 두 정수 사이의 합\n",
    "\n",
    "두 정수 a, b가 주어졌을 때 a와 b 사이에 속한 모든 정수의 합을 리턴하는 함수, solution을 완성하세요.\n",
    "\n",
    "예를 들어 a = 3, b = 5인 경우, 3 + 4 + 5 = 12이므로 12를 리턴합니다.\n",
    "\n",
    "제한 조건\n",
    "\n",
    "a와 b가 같은 경우는 둘 중 아무 수나 리턴하세요.\n",
    "\n",
    "a와 b는 -10,000,000 이상 10,000,000 이하인 정수입니다.\n",
    "\n",
    "a와 b의 대소관계는 정해져있지 않습니다.\n",
    "\n",
    "입출력 예\n",
    "\n",
    "a\tb\treturn\n",
    "\n",
    "3\t5\t12\n",
    "\n",
    "3\t3\t3\n",
    "\n",
    "5\t3\t12"
   ]
  },
  {
   "cell_type": "markdown",
   "id": "e0e84aab",
   "metadata": {},
   "source": [
    "## My code"
   ]
  },
  {
   "cell_type": "code",
   "execution_count": 1,
   "id": "6b471995",
   "metadata": {},
   "outputs": [],
   "source": [
    "def solution(a, b):\n",
    "    answer = 0\n",
    "    if a >= b:\n",
    "        for i in range(b, a + 1):\n",
    "            answer += i\n",
    "    else:\n",
    "        for i in range(a, b + 1):\n",
    "            answer += i\n",
    "    return answer"
   ]
  },
  {
   "cell_type": "markdown",
   "id": "975db305",
   "metadata": {},
   "source": [
    "## answers"
   ]
  },
  {
   "cell_type": "code",
   "execution_count": null,
   "id": "a396c649",
   "metadata": {},
   "outputs": [],
   "source": [
    "def adder(a, b):\n",
    "    # 함수를 완성하세요\n",
    "    if a > b: a, b = b, a\n",
    "\n",
    "    return sum(range(a,b+1))\n",
    "\n",
    "# 아래는 테스트로 출력해 보기 위한 코드입니다.\n",
    "print( adder(3, 5))"
   ]
  }
 ],
 "metadata": {
  "jupytext": {
   "formats": "ipynb,auto:light"
  },
  "kernelspec": {
   "display_name": "Python 3",
   "language": "python",
   "name": "python3"
  },
  "language_info": {
   "codemirror_mode": {
    "name": "ipython",
    "version": 3
   },
   "file_extension": ".py",
   "mimetype": "text/x-python",
   "name": "python",
   "nbconvert_exporter": "python",
   "pygments_lexer": "ipython3",
   "version": "3.8.8"
  }
 },
 "nbformat": 4,
 "nbformat_minor": 5
}
