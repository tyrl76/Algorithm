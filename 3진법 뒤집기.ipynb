{
 "cells": [
  {
   "cell_type": "markdown",
   "id": "7728be32",
   "metadata": {},
   "source": [
    "# 3진법 뒤집기\n",
    "\n",
    "자연수 n이 매개변수로 주어집니다. n을 3진법 상에서 앞뒤로 뒤집은 후, 이를 다시 10진법으로 표현한 수를 return 하도록 solution 함수를 완성해주세요.\n",
    "\n",
    "제한사항\n",
    "\n",
    "n은 1 이상 100,000,000 이하인 자연수입니다.\n",
    "\n",
    "입출력 예\n",
    "\n",
    "n\tresult\n",
    "\n",
    "45\t7\n",
    "\n",
    "125\t229\n",
    "\n",
    "입출력 예 설명\n",
    "\n",
    "입출력 예 #1\n",
    "\n",
    "답을 도출하는 과정은 다음과 같습니다.\n",
    "\n",
    "n (10진법)\tn (3진법)\t앞뒤 반전(3진법)\t10진법으로 표현\n",
    "\n",
    "45\t1200\t0021\t7\n",
    "\n",
    "따라서 7을 return 해야 합니다.\n",
    "\n",
    "입출력 예 #2\n",
    "\n",
    "답을 도출하는 과정은 다음과 같습니다.\n",
    "\n",
    "n (10진법)\tn (3진법)\t앞뒤 반전(3진법)\t10진법으로 표현\n",
    "\n",
    "125\t11122\t22111\t229\n",
    "\n",
    "따라서 229를 return 해야 합니다."
   ]
  },
  {
   "cell_type": "markdown",
   "id": "d952b1d4",
   "metadata": {},
   "source": [
    "## Mycode"
   ]
  },
  {
   "cell_type": "code",
   "execution_count": 1,
   "id": "39bd0ee0",
   "metadata": {},
   "outputs": [],
   "source": [
    "def trans(n, q):\n",
    "    result = ''\n",
    "    while n > 0:\n",
    "        n, mod = divmod(n, q)\n",
    "        result += str(mod)\n",
    "    return result  \n",
    "\n",
    "def solution(n):\n",
    "    three = trans(n, 3)\n",
    "    ten = int(three, 3)\n",
    "    return ten"
   ]
  },
  {
   "cell_type": "markdown",
   "id": "19810eca",
   "metadata": {},
   "source": [
    "## answers"
   ]
  },
  {
   "cell_type": "code",
   "execution_count": null,
   "id": "5837fe23",
   "metadata": {},
   "outputs": [],
   "source": [
    "def solution(n):\n",
    "    tmp = ''\n",
    "    while n:\n",
    "        tmp += str(n % 3)\n",
    "        n = n // 3\n",
    "\n",
    "    answer = int(tmp, 3)\n",
    "    return answer"
   ]
  }
 ],
 "metadata": {
  "jupytext": {
   "formats": "ipynb,auto:light"
  },
  "kernelspec": {
   "display_name": "Python 3",
   "language": "python",
   "name": "python3"
  },
  "language_info": {
   "codemirror_mode": {
    "name": "ipython",
    "version": 3
   },
   "file_extension": ".py",
   "mimetype": "text/x-python",
   "name": "python",
   "nbconvert_exporter": "python",
   "pygments_lexer": "ipython3",
   "version": "3.8.8"
  }
 },
 "nbformat": 4,
 "nbformat_minor": 5
}
