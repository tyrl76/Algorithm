{
 "cells": [
  {
   "cell_type": "markdown",
   "id": "532d93a2",
   "metadata": {},
   "source": [
    "# 가운데 글자 가져오기\n",
    "\n",
    "단어 s의 가운데 글자를 반환하는 함수, solution을 만들어 보세요. 단어의 길이가 짝수라면 가운데 두글자를 반환하면 됩니다.\n",
    "\n",
    "재한사항\n",
    "\n",
    "s는 길이가 1 이상, 100이하인 스트링입니다.\n",
    "\n",
    "입출력 예\n",
    "\n",
    "s\treturn\n",
    "\n",
    "\"abcde\"\t\"c\"\n",
    "\n",
    "\"qwer\"\t\"we\""
   ]
  },
  {
   "cell_type": "markdown",
   "id": "b16d79c8",
   "metadata": {},
   "source": [
    "## My code"
   ]
  },
  {
   "cell_type": "code",
   "execution_count": 2,
   "id": "2b82c6d1",
   "metadata": {},
   "outputs": [
    {
     "name": "stdout",
     "output_type": "stream",
     "text": [
      "w\n"
     ]
    }
   ],
   "source": [
    "def solution(s):\n",
    "    length = len(s)\n",
    "    if length % 2 == 0:\n",
    "        return s[length//2-1:length//2+1]\n",
    "    else:\n",
    "        return s[length//2]\n",
    "    \n",
    "print(solution(\"power\"))"
   ]
  },
  {
   "cell_type": "markdown",
   "id": "49844193",
   "metadata": {},
   "source": [
    "## answers"
   ]
  },
  {
   "cell_type": "code",
   "execution_count": 3,
   "id": "e45649f3",
   "metadata": {},
   "outputs": [
    {
     "name": "stdout",
     "output_type": "stream",
     "text": [
      "w\n"
     ]
    }
   ],
   "source": [
    "def string_middle(str):\n",
    "\n",
    "    return str[(len(str)-1)//2:len(str)//2+1]\n",
    "\n",
    "print(string_middle(\"power\"))"
   ]
  }
 ],
 "metadata": {
  "jupytext": {
   "formats": "ipynb,auto:light"
  },
  "kernelspec": {
   "display_name": "Python 3",
   "language": "python",
   "name": "python3"
  },
  "language_info": {
   "codemirror_mode": {
    "name": "ipython",
    "version": 3
   },
   "file_extension": ".py",
   "mimetype": "text/x-python",
   "name": "python",
   "nbconvert_exporter": "python",
   "pygments_lexer": "ipython3",
   "version": "3.8.8"
  }
 },
 "nbformat": 4,
 "nbformat_minor": 5
}
