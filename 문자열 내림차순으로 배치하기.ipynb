{
 "cells": [
  {
   "cell_type": "markdown",
   "id": "24f25b8c",
   "metadata": {},
   "source": [
    "# 문자열 내림차순으로 배치하기\n",
    "문자열 s에 나타나는 문자를 큰것부터 작은 순으로 정렬해 새로운 문자열을 리턴하는 함수, solution을 완성해주세요.\n",
    "\n",
    "s는 영문 대소문자로만 구성되어 있으며, 대문자는 소문자보다 작은 것으로 간주합니다.\n",
    "\n",
    "제한 사항\n",
    "\n",
    "str은 길이 1 이상인 문자열입니다.\n",
    "\n",
    "입출력 예\n",
    "\n",
    "s\treturn\n",
    "\n",
    "\"Zbcdefg\"\t\"gfedcbZ\""
   ]
  },
  {
   "cell_type": "markdown",
   "id": "35521c9d",
   "metadata": {},
   "source": [
    "## My code"
   ]
  },
  {
   "cell_type": "code",
   "execution_count": 1,
   "id": "c0bd042c",
   "metadata": {},
   "outputs": [],
   "source": [
    "def solution(s):\n",
    "    answer = []\n",
    "    result = \"\"\n",
    "\n",
    "    for i in s:\n",
    "        answer.append(i)\n",
    "\n",
    "    answer.sort(reverse = True)\n",
    "\n",
    "    for i in answer:\n",
    "        result += i\n",
    "\n",
    "    return result"
   ]
  },
  {
   "cell_type": "markdown",
   "id": "f360868b",
   "metadata": {},
   "source": [
    "## answers"
   ]
  },
  {
   "cell_type": "code",
   "execution_count": 6,
   "id": "83e882c6",
   "metadata": {},
   "outputs": [
    {
     "data": {
      "text/plain": [
       "'jdaZ'"
      ]
     },
     "execution_count": 6,
     "metadata": {},
     "output_type": "execute_result"
    }
   ],
   "source": [
    "def solution(s):\n",
    "    return ''.join(sorted(s, reverse=True))\n",
    "\n",
    "solution(\"adjZ\")\n",
    "\n",
    "# sorted는 string에 사용 가능"
   ]
  }
 ],
 "metadata": {
  "jupytext": {
   "encoding": "# -*- coding: utf-8 -*-",
   "formats": "ipynb,py:light"
  },
  "kernelspec": {
   "display_name": "Python 3",
   "language": "python",
   "name": "python3"
  },
  "language_info": {
   "codemirror_mode": {
    "name": "ipython",
    "version": 3
   },
   "file_extension": ".py",
   "mimetype": "text/x-python",
   "name": "python",
   "nbconvert_exporter": "python",
   "pygments_lexer": "ipython3",
   "version": "3.8.8"
  }
 },
 "nbformat": 4,
 "nbformat_minor": 5
}
