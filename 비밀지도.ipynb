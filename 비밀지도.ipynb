{
 "cells": [
  {
   "cell_type": "markdown",
   "id": "aa295b65",
   "metadata": {},
   "source": [
    "# 비밀지도\n",
    "\n",
    "네오는 평소 프로도가 비상금을 숨겨놓는 장소를 알려줄 비밀지도를 손에 넣었다. \n",
    "\n",
    "그런데 이 비밀지도는 숫자로 암호화되어 있어 위치를 확인하기 위해서는 암호를 해독해야 한다. \n",
    "\n",
    "다행히 지도 암호를 해독할 방법을 적어놓은 메모도 함께 발견했다.\n",
    "\n",
    "지도는 한 변의 길이가 n인 정사각형 배열 형태로, 각 칸은 \"공백\"(\" \") 또는 \"벽\"(\"#\") 두 종류로 이루어져 있다.\n",
    "\n",
    "전체 지도는 두 장의 지도를 겹쳐서 얻을 수 있다. 각각 \"지도 1\"과 \"지도 2\"라고 하자.\n",
    "\n",
    "지도 1 또는 지도 2 중 어느 하나라도 벽인 부분은 전체 지도에서도 벽이다. 지도 1과 지도 2에서 모두 공백인 부분은 전체 지도에서도 공백이다.\n",
    "\n",
    "\"지도 1\"과 \"지도 2\"는 각각 정수 배열로 암호화되어 있다.\n",
    "\n",
    "암호화된 배열은 지도의 각 가로줄에서 벽 부분을 1, 공백 부분을 0으로 부호화했을 때 얻어지는 이진수에 해당하는 값의 배열이다."
   ]
  },
  {
   "cell_type": "markdown",
   "id": "def94178",
   "metadata": {},
   "source": [
    "<img src=\"images/secret8.png\" height=\"100px\" width=\"500px\" align=\"left\">"
   ]
  },
  {
   "cell_type": "markdown",
   "id": "54508058",
   "metadata": {},
   "source": [
    "입력 형식\n",
    "\n",
    "입력으로 지도의 한 변 크기 n 과 2개의 정수 배열 arr1, arr2가 들어온다.\n",
    "\n",
    "1 ≦ n ≦ 16\n",
    "\n",
    "arr1, arr2는 길이 n인 정수 배열로 주어진다.\n",
    "\n",
    "정수 배열의 각 원소 x를 이진수로 변환했을 때의 길이는 n 이하이다. 즉, 0 ≦ x ≦ 2n - 1을 만족한다.\n",
    "\n",
    "출력 형식\n",
    "\n",
    "원래의 비밀지도를 해독하여 '#', 공백으로 구성된 문자열 배열로 출력하라.\n",
    "\n",
    "입출력 예제\n",
    "\n",
    "매개변수\t값\n",
    "\n",
    "n\t5\n",
    "\n",
    "arr1\t[9, 20, 28, 18, 11]\n",
    "\n",
    "arr2\t[30, 1, 21, 17, 28]\n",
    "\n",
    "출력\t[\"#####\",\"# # #\", \"### #\", \"# ##\", \"#####\"]\n",
    "\n",
    "매개변수\t값\n",
    "\n",
    "n\t6\n",
    "\n",
    "arr1\t[46, 33, 33 ,22, 31, 50]\n",
    "\n",
    "arr2\t[27 ,56, 19, 14, 14, 10]\n",
    "\n",
    "출력\t[\"######\", \"### #\", \"## ##\", \" #### \", \" #####\", \"### # \"]"
   ]
  },
  {
   "cell_type": "markdown",
   "id": "44224529",
   "metadata": {},
   "source": [
    "## My code"
   ]
  },
  {
   "cell_type": "code",
   "execution_count": 1,
   "id": "653c5937",
   "metadata": {},
   "outputs": [],
   "source": [
    "def binary(n, i):\n",
    "    result = []\n",
    "    while True:\n",
    "        result.append(i % 2)\n",
    "        i = i // 2\n",
    "        if i == 0:\n",
    "            break\n",
    "    while len(result) != n:\n",
    "        result.append(0)\n",
    "    result.reverse()\n",
    "    return result\n",
    "\n",
    "\n",
    "def solution(n, arr1, arr2):\n",
    "    binary_list1 = []\n",
    "    binary_list2 = []\n",
    "    trans_list = []\n",
    "\n",
    "    for i in arr1:\n",
    "        binary_list1.append(binary(n, i))\n",
    "\n",
    "    for i in arr2:\n",
    "        binary_list2.append(binary(n, i))\n",
    "\n",
    "    for i in range(n):\n",
    "        temp = \"\"\n",
    "        for j in range(n):\n",
    "            if binary_list1[i][j] + binary_list2[i][j] != 0:\n",
    "                temp += \"#\"\n",
    "            else:\n",
    "                temp += \" \"\n",
    "        trans_list.append(temp)\n",
    "\n",
    "    return trans_list"
   ]
  },
  {
   "cell_type": "markdown",
   "id": "a652cd84",
   "metadata": {},
   "source": [
    "## answers"
   ]
  },
  {
   "cell_type": "code",
   "execution_count": 2,
   "id": "2262fd9d",
   "metadata": {},
   "outputs": [],
   "source": [
    "def solution(n, arr1, arr2):\n",
    "    answer = []\n",
    "    for i,j in zip(arr1,arr2):\n",
    "        a12 = str(bin(i|j)[2:])\n",
    "        a12=a12.rjust(n,'0')\n",
    "        a12=a12.replace('1','#')\n",
    "        a12=a12.replace('0',' ')\n",
    "        answer.append(a12)\n",
    "    return answer"
   ]
  },
  {
   "cell_type": "code",
   "execution_count": null,
   "id": "1459e327",
   "metadata": {},
   "outputs": [],
   "source": [
    "def solution(n, arr1, arr2) :\n",
    "    result = []\n",
    "\n",
    "    for j in range(0,len(arr1)) :\n",
    "        ret = ''\n",
    "        num = arr1[j] | arr2[j]\n",
    "\n",
    "        for i in range(0, n) :\n",
    "            if num % 2 == 0 :\n",
    "                ret = ' ' + ret\n",
    "\n",
    "            else : \n",
    "                ret = '#' + ret\n",
    "\n",
    "            num = int(num / 2)\n",
    "\n",
    "        result.append(ret)\n",
    "\n",
    "    return result"
   ]
  }
 ],
 "metadata": {
  "jupytext": {
   "formats": "ipynb,auto:light"
  },
  "kernelspec": {
   "display_name": "Python 3.10.1 64-bit",
   "language": "python",
   "name": "python3"
  },
  "language_info": {
   "codemirror_mode": {
    "name": "ipython",
    "version": 3
   },
   "file_extension": ".py",
   "mimetype": "text/x-python",
   "name": "python",
   "nbconvert_exporter": "python",
   "pygments_lexer": "ipython3",
   "version": "3.10.1"
  },
  "vscode": {
   "interpreter": {
    "hash": "84d6da14917a9eca899ca51c882260dc443c9b7622942412cba76611117e3156"
   }
  }
 },
 "nbformat": 4,
 "nbformat_minor": 5
}
