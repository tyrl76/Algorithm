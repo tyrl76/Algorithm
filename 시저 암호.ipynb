{
 "cells": [
  {
   "cell_type": "markdown",
   "id": "c2cbf064",
   "metadata": {},
   "source": [
    "# 시저 암호\n",
    "\n",
    "어떤 문장의 각 알파벳을 일정한 거리만큼 밀어서 다른 알파벳으로 바꾸는 암호화 방식을 시저 암호라고 합니다.\n",
    "\n",
    "예를 들어 \"AB\"는 1만큼 밀면 \"BC\"가 되고, 3만큼 밀면 \"DE\"가 됩니다. \"z\"는 1만큼 밀면 \"a\"가 됩니다.\n",
    "\n",
    "문자열 s와 거리 n을 입력받아 s를 n만큼 민 암호문을 만드는 함수, solution을 완성해 보세요.\n",
    "\n",
    "제한 조건\n",
    "\n",
    "공백은 아무리 밀어도 공백입니다.\n",
    "\n",
    "s는 알파벳 소문자, 대문자, 공백으로만 이루어져 있습니다.\n",
    "\n",
    "s의 길이는 8000이하입니다.\n",
    "\n",
    "n은 1 이상, 25이하인 자연수입니다.\n",
    "\n",
    "입출력 예\n",
    "\n",
    "s n result\n",
    "\n",
    "\"AB\" 1 \"BC\"\n",
    "\n",
    "\"z\" 1 \"a\"\n",
    "\n",
    "\"a B z\" 4 \"e F d\""
   ]
  },
  {
   "cell_type": "markdown",
   "id": "216f5934",
   "metadata": {},
   "source": [
    "## My code"
   ]
  },
  {
   "cell_type": "code",
   "execution_count": 1,
   "id": "dded842c",
   "metadata": {},
   "outputs": [
    {
     "name": "stdout",
     "output_type": "stream",
     "text": [
      "s는 \"a B z\", n은 4인 경우: e F d\n"
     ]
    }
   ],
   "source": [
    "def solution(s, n):\n",
    "    s_code = {\"a\" : 1, \"b\" : 2, \"c\" : 3, \"d\" : 4, \"e\" : 5, \"f\": 6, \"g\" : 7, \"h\" : 8, \"i\" : 9, \"j\" : 10, \"k\" : 11, \"l\" : 12, \"m\" : 13, \"n\" : 14, \"o\" : 15, \"p\" : 16, \"q\" : 17, \"r\" : 18, \"s\" : 19, \"t\" : 20, \"u\" : 21, \"v\" : 22, \"w\" : 23, \"x\" : 24, \"y\" : 25, \"z\" : 26}\n",
    "    b_code = {\"A\" : 52, \"B\" : 53, \"C\" : 54, \"D\" : 55, \"E\" : 56, \"F\": 57, \"G\" : 58, \"H\" : 59, \"I\" : 60, \"J\" : 61, \"K\" : 62, \"L\" : 63, \"M\" : 64, \"N\" : 65, \"O\" : 66, \"P\" : 67, \"Q\" : 68, \"R\" : 69, \"S\" : 70, \"T\" : 71, \"U\" : 72, \"V\" : 73, \"W\" : 74, \"X\" : 75, \"Y\" : 76, \"Z\" : 77}\n",
    "    trans_code = []\n",
    "    result = \"\"\n",
    "\n",
    "    for i in s:\n",
    "        if i in s_code:\n",
    "            trans_code.append(s_code[i] + n)\n",
    "        elif i in b_code:\n",
    "            trans_code.append(b_code[i] + n)\n",
    "        else:\n",
    "            trans_code.append(0)\n",
    "\n",
    "    rs_code = {v:k for k,v in s_code.items()}\n",
    "    rb_code = {v:k for k,v in b_code.items()}\n",
    "\n",
    "    for i in trans_code:\n",
    "        if i == 0:\n",
    "            result += \" \"\n",
    "        elif i < 52:\n",
    "            if i <= 26:\n",
    "                result += rs_code[i]\n",
    "            else:\n",
    "                result += rs_code[i - 26]\n",
    "        else:\n",
    "            if i <= 77:\n",
    "                result += rb_code[i]\n",
    "            else:\n",
    "                result += rb_code[i - 26]\n",
    "\n",
    "    return result\n",
    "\n",
    "# 실행을 위한 테스트코드입니다.\n",
    "print('s는 \"a B z\", n은 4인 경우: ' + solution(\"a B z\", 4))"
   ]
  },
  {
   "cell_type": "markdown",
   "id": "c30dba62",
   "metadata": {},
   "source": [
    "## answers"
   ]
  },
  {
   "cell_type": "code",
   "execution_count": 2,
   "id": "edd8ea81",
   "metadata": {},
   "outputs": [
    {
     "name": "stdout",
     "output_type": "stream",
     "text": [
      "s는 \"a B z\", n은 4인 경우: e F d\n"
     ]
    }
   ],
   "source": [
    "def caesar(s, n):\n",
    "    s = list(s)\n",
    "    for i in range(len(s)):\n",
    "        if s[i].isupper():\n",
    "            s[i]=chr((ord(s[i])-ord('A')+ n)%26+ord('A'))\n",
    "        elif s[i].islower():\n",
    "            s[i]=chr((ord(s[i])-ord('a')+ n)%26+ord('a'))\n",
    "\n",
    "    return \"\".join(s)\n",
    "    # 주어진 문장을 암호화하여 반환하세요.\n",
    "\n",
    "\n",
    "# 실행을 위한 테스트코드입니다.\n",
    "print('s는 \"a B z\", n은 4인 경우: ' + caesar(\"a B z\", 4))"
   ]
  },
  {
   "cell_type": "code",
   "execution_count": null,
   "id": "d18fc623",
   "metadata": {},
   "outputs": [],
   "source": [
    "def caesar(s, n):\n",
    "    lower_list = \"abcdefghijklmnopqrstuvwxyz\"\n",
    "    upper_list = \"ABCDEFGHIJKLMNOPQRSTUVWXYZ\"\n",
    "\n",
    "    result = []\n",
    "\n",
    "    for i in s:\n",
    "        if i is \" \":\n",
    "            result.append(\" \")\n",
    "        elif i.islower() is True:\n",
    "            new_ = lower_list.find(i) + n\n",
    "            result.append(lower_list[new_ % 26])\n",
    "        else:\n",
    "            new_ = upper_list.find(i) + n\n",
    "            result.append(upper_list[new_ % 26])\n",
    "    return \"\".join(result)"
   ]
  }
 ],
 "metadata": {
  "jupytext": {
   "formats": "ipynb,auto:light"
  },
  "kernelspec": {
   "display_name": "Python 3",
   "language": "python",
   "name": "python3"
  },
  "language_info": {
   "codemirror_mode": {
    "name": "ipython",
    "version": 3
   },
   "file_extension": ".py",
   "mimetype": "text/x-python",
   "name": "python",
   "nbconvert_exporter": "python",
   "pygments_lexer": "ipython3",
   "version": "3.8.8"
  }
 },
 "nbformat": 4,
 "nbformat_minor": 5
}
